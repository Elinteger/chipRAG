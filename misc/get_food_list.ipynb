{
 "cells": [
  {
   "cell_type": "markdown",
   "id": "67085a23",
   "metadata": {},
   "source": [
    "Quick tool to get all different foods in the chinese document for pesticide residues. Used to create a list of selectable foods for the frontend of chipRAG.\n",
    "\n",
    "**Info**: This code isn't needed for the ordinary chipRAG pipeline, but just a quick extraction tool for the (mockup) frontend. Also running it out of the /misc directory will lead to no success, as the imports are originally made from the root level -> so put it there before starting :)"
   ]
  },
  {
   "cell_type": "code",
   "execution_count": null,
   "id": "d557ce3e",
   "metadata": {},
   "outputs": [],
   "source": [
    "# PROMPT AND QUERY DEFINITION\n",
    "\n",
    "## Query\n",
    "query = \"\"\"\n",
    "    SELECT DISTINCT t.text\n",
    "    FROM chinese_pesticide_residues as t\n",
    "\"\"\"\n",
    "\n",
    "## Prompt\n",
    "prompt = \"\"\"\n",
    "You're about to get a section about a pesticide followed by a single or multiple tables with a bunch of foods possibly within a food category. These tables have the headings \\\"Food/Category Name\\\"\n",
    "and \\\"Maximum Residue Limit\\\". Some of those Foods got no Maximum Residue Limit value next to them. Those are usually categories for foods or simply a food that goes over\n",
    "multiple rows in the original document.\n",
    "Your job is to extract all categories and foods from the section and put them into a python list like this: [\"Category\", \"Food\", \"Category\", \"Food\", \"Food\", \"Category\"].\n",
    "There is no need to treat categories and foods different. Just put all of them into a list.\n",
    "Add all you find in the section into the list. Don't add, alter or remove any values whatsoever.\n",
    "Do never send/write anything back but the list.\n",
    "Here is the section you are supposed to do that task with:\n",
    "{text}\n",
    "\"\"\""
   ]
  },
  {
   "cell_type": "code",
   "execution_count": null,
   "id": "b3de24ae",
   "metadata": {},
   "outputs": [],
   "source": [
    "# IMPORT AND SETUP\n",
    "\n",
    "import openai\n",
    "from config.load_config import settings\n",
    "from chiprag.postgres_utils import establish_connection, get_data\n",
    "\n",
    "# setup openAI api\n",
    "openai_client = openai.OpenAI(\n",
    "        base_url=settings.kipitz_base_url,\n",
    "        api_key=settings.kipitz_api_token\n",
    "    )\n",
    "\n",
    "# connect to database\n",
    "conn, cur = establish_connection()"
   ]
  },
  {
   "cell_type": "code",
   "execution_count": null,
   "id": "ff332e0a",
   "metadata": {},
   "outputs": [],
   "source": [
    "# CLEAN SQL DATA AND GET VALUES\n",
    "\n",
    "import json\n",
    "import os\n",
    "from concurrent.futures import ThreadPoolExecutor, as_completed\n",
    "\n",
    "raw_data = get_data(query)\n",
    "data = [row[0].strip() for row in raw_data]\n",
    "\n",
    "foods = []\n",
    "save_every = 20\n",
    "batch_size = 100 \n",
    "\n",
    "def process_item(i, text):\n",
    "    try:\n",
    "        fprompt = prompt.format(text=text)\n",
    "        completion = openai_client.chat.completions.create(\n",
    "            model=settings.kipitz_model,\n",
    "            messages=[{\"role\": settings.kipitz_role, \"content\": fprompt}],\n",
    "        )\n",
    "        parsed_list = json.loads(completion.choices[0].message.content)\n",
    "        return i, parsed_list\n",
    "    except Exception as e:\n",
    "        print(f\"Error at index {i}: {e}\")\n",
    "        return i, []\n",
    "\n",
    "if not os.path.exists('tmp'):\n",
    "    os.makedirs('tmp')\n",
    "\n",
    "with ThreadPoolExecutor(max_workers=10) as executor: \n",
    "    future_to_index = {executor.submit(process_item, i, text): i for i, text in enumerate(data)}\n",
    "\n",
    "    for idx, future in enumerate(as_completed(future_to_index)):\n",
    "        i = future_to_index[future]\n",
    "        try:\n",
    "            i, result = future.result()\n",
    "            foods.extend(result)\n",
    "        except Exception as e:\n",
    "            print(f\"Exception at index {i}: {e}\")\n",
    "\n",
    "        if idx % save_every == 0:\n",
    "            print(f\"{idx}/{len(data)}\")\n",
    "            with open(f'tmp/tmpsave{idx}.txt', 'w') as f:\n",
    "                for item in foods:\n",
    "                    f.write(f\"{item}\\n\")\n",
    "\n",
    "\n",
    "with open('my_list.txt', 'w') as f:\n",
    "    for item in foods:\n",
    "        f.write(f\"{item}\\n\")\n"
   ]
  },
  {
   "cell_type": "code",
   "execution_count": null,
   "id": "c781bd43",
   "metadata": {},
   "outputs": [],
   "source": [
    "# REMOVING DUPLICATES, SAVING\n",
    "\n",
    "with open('my_list.txt', 'r') as f:\n",
    "    input = [line.strip() for line in f]\n",
    "\n",
    "\n",
    "foods = [s.capitalize() for s in input]\n",
    "foods = list(set(foods))\n",
    "foods.sort()\n",
    "\n",
    "with open('chinese_foods.txt', 'w') as f:\n",
    "    for food in foods:\n",
    "        f.write(f\"{foods}\\n\")"
   ]
  }
 ],
 "metadata": {
  "kernelspec": {
   "display_name": ".venv",
   "language": "python",
   "name": "python3"
  },
  "language_info": {
   "codemirror_mode": {
    "name": "ipython",
    "version": 3
   },
   "file_extension": ".py",
   "mimetype": "text/x-python",
   "name": "python",
   "nbconvert_exporter": "python",
   "pygments_lexer": "ipython3",
   "version": "3.13.3"
  }
 },
 "nbformat": 4,
 "nbformat_minor": 5
}
